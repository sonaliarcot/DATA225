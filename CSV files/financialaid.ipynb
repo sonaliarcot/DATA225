{
 "cells": [
  {
   "cell_type": "code",
   "execution_count": 1,
   "id": "0a1edd7d",
   "metadata": {},
   "outputs": [],
   "source": [
    "import pandas as pd"
   ]
  },
  {
   "cell_type": "code",
   "execution_count": 2,
   "id": "156363b4",
   "metadata": {},
   "outputs": [],
   "source": [
    "df = pd.read_excel(\"statistic_id1303432_total-bilateral-aid-commitments-to-ukraine-2022-by-country-and-type.xlsx\", sheet_name = \"Data\")"
   ]
  },
  {
   "cell_type": "code",
   "execution_count": 3,
   "id": "22900a47",
   "metadata": {},
   "outputs": [
    {
     "data": {
      "text/html": [
       "<div>\n",
       "<style scoped>\n",
       "    .dataframe tbody tr th:only-of-type {\n",
       "        vertical-align: middle;\n",
       "    }\n",
       "\n",
       "    .dataframe tbody tr th {\n",
       "        vertical-align: top;\n",
       "    }\n",
       "\n",
       "    .dataframe thead th {\n",
       "        text-align: right;\n",
       "    }\n",
       "</style>\n",
       "<table border=\"1\" class=\"dataframe\">\n",
       "  <thead>\n",
       "    <tr style=\"text-align: right;\">\n",
       "      <th></th>\n",
       "      <th>Country</th>\n",
       "      <th>Financial</th>\n",
       "      <th>Humanitarian</th>\n",
       "      <th>Military</th>\n",
       "    </tr>\n",
       "  </thead>\n",
       "  <tbody>\n",
       "    <tr>\n",
       "      <th>0</th>\n",
       "      <td>United States</td>\n",
       "      <td>15.18</td>\n",
       "      <td>9.49</td>\n",
       "      <td>27.65</td>\n",
       "    </tr>\n",
       "    <tr>\n",
       "      <th>1</th>\n",
       "      <td>EU institutions</td>\n",
       "      <td>12.32</td>\n",
       "      <td>1.42</td>\n",
       "      <td>2.50</td>\n",
       "    </tr>\n",
       "    <tr>\n",
       "      <th>2</th>\n",
       "      <td>United Kingdom</td>\n",
       "      <td>2.55</td>\n",
       "      <td>0.37</td>\n",
       "      <td>3.74</td>\n",
       "    </tr>\n",
       "    <tr>\n",
       "      <th>3</th>\n",
       "      <td>Germany</td>\n",
       "      <td>1.15</td>\n",
       "      <td>0.95</td>\n",
       "      <td>1.20</td>\n",
       "    </tr>\n",
       "    <tr>\n",
       "      <th>4</th>\n",
       "      <td>Canada</td>\n",
       "      <td>1.81</td>\n",
       "      <td>0.30</td>\n",
       "      <td>0.93</td>\n",
       "    </tr>\n",
       "  </tbody>\n",
       "</table>\n",
       "</div>"
      ],
      "text/plain": [
       "           Country  Financial  Humanitarian  Military\n",
       "0    United States      15.18          9.49     27.65\n",
       "1  EU institutions      12.32          1.42      2.50\n",
       "2   United Kingdom       2.55          0.37      3.74\n",
       "3          Germany       1.15          0.95      1.20\n",
       "4           Canada       1.81          0.30      0.93"
      ]
     },
     "execution_count": 3,
     "metadata": {},
     "output_type": "execute_result"
    }
   ],
   "source": [
    "df.head(5)"
   ]
  },
  {
   "cell_type": "code",
   "execution_count": 4,
   "id": "585b60c0",
   "metadata": {},
   "outputs": [],
   "source": [
    "df.to_csv(\"financialaid.csv\", mode = 'w', index = False, header = True)"
   ]
  },
  {
   "cell_type": "code",
   "execution_count": null,
   "id": "8368ae33",
   "metadata": {},
   "outputs": [],
   "source": []
  }
 ],
 "metadata": {
  "kernelspec": {
   "display_name": "Python 3 (ipykernel)",
   "language": "python",
   "name": "python3"
  },
  "language_info": {
   "codemirror_mode": {
    "name": "ipython",
    "version": 3
   },
   "file_extension": ".py",
   "mimetype": "text/x-python",
   "name": "python",
   "nbconvert_exporter": "python",
   "pygments_lexer": "ipython3",
   "version": "3.9.13"
  }
 },
 "nbformat": 4,
 "nbformat_minor": 5
}
