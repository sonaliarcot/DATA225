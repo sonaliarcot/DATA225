{
 "cells": [
  {
   "cell_type": "code",
   "execution_count": 1,
   "id": "86258888",
   "metadata": {},
   "outputs": [],
   "source": [
    "import pandas as pd"
   ]
  },
  {
   "cell_type": "code",
   "execution_count": 39,
   "id": "26827957",
   "metadata": {},
   "outputs": [],
   "source": [
    "df = pd.read_excel(\"statistic_id1298031_dependence-on-russian-oil-in-the-eu-and-uk-2020-by-country.xlsx\", sheet_name=\"Data\")"
   ]
  },
  {
   "cell_type": "code",
   "execution_count": 40,
   "id": "f93c1166",
   "metadata": {},
   "outputs": [
    {
     "data": {
      "text/html": [
       "<div>\n",
       "<style scoped>\n",
       "    .dataframe tbody tr th:only-of-type {\n",
       "        vertical-align: middle;\n",
       "    }\n",
       "\n",
       "    .dataframe tbody tr th {\n",
       "        vertical-align: top;\n",
       "    }\n",
       "\n",
       "    .dataframe thead th {\n",
       "        text-align: right;\n",
       "    }\n",
       "</style>\n",
       "<table border=\"1\" class=\"dataframe\">\n",
       "  <thead>\n",
       "    <tr style=\"text-align: right;\">\n",
       "      <th></th>\n",
       "      <th>Country</th>\n",
       "      <th>Oil_Import</th>\n",
       "    </tr>\n",
       "  </thead>\n",
       "  <tbody>\n",
       "    <tr>\n",
       "      <th>0</th>\n",
       "      <td>Slovakia</td>\n",
       "      <td>78.4</td>\n",
       "    </tr>\n",
       "    <tr>\n",
       "      <th>1</th>\n",
       "      <td>Lithuania</td>\n",
       "      <td>68.8</td>\n",
       "    </tr>\n",
       "    <tr>\n",
       "      <th>2</th>\n",
       "      <td>Poland</td>\n",
       "      <td>67.5</td>\n",
       "    </tr>\n",
       "    <tr>\n",
       "      <th>3</th>\n",
       "      <td>Finland</td>\n",
       "      <td>66.8</td>\n",
       "    </tr>\n",
       "    <tr>\n",
       "      <th>4</th>\n",
       "      <td>Hungary</td>\n",
       "      <td>44.6</td>\n",
       "    </tr>\n",
       "  </tbody>\n",
       "</table>\n",
       "</div>"
      ],
      "text/plain": [
       "     Country  Oil_Import\n",
       "0   Slovakia        78.4\n",
       "1  Lithuania        68.8\n",
       "2     Poland        67.5\n",
       "3    Finland        66.8\n",
       "4    Hungary        44.6"
      ]
     },
     "execution_count": 40,
     "metadata": {},
     "output_type": "execute_result"
    }
   ],
   "source": [
    "df.head(5)"
   ]
  },
  {
   "cell_type": "code",
   "execution_count": 41,
   "id": "2d709ce3",
   "metadata": {},
   "outputs": [],
   "source": [
    "df1 = pd.read_excel(\"statistic_id1308770_impact-of-the-war-in-ukraine-on-poverty-in-the-eu-2022-by-country.xlsx\", sheet_name=\"Data\")"
   ]
  },
  {
   "cell_type": "code",
   "execution_count": 42,
   "id": "e51c6465",
   "metadata": {},
   "outputs": [
    {
     "data": {
      "text/html": [
       "<div>\n",
       "<style scoped>\n",
       "    .dataframe tbody tr th:only-of-type {\n",
       "        vertical-align: middle;\n",
       "    }\n",
       "\n",
       "    .dataframe tbody tr th {\n",
       "        vertical-align: top;\n",
       "    }\n",
       "\n",
       "    .dataframe thead th {\n",
       "        text-align: right;\n",
       "    }\n",
       "</style>\n",
       "<table border=\"1\" class=\"dataframe\">\n",
       "  <thead>\n",
       "    <tr style=\"text-align: right;\">\n",
       "      <th></th>\n",
       "      <th>Country</th>\n",
       "      <th>Poverty_Estimate</th>\n",
       "    </tr>\n",
       "  </thead>\n",
       "  <tbody>\n",
       "    <tr>\n",
       "      <th>0</th>\n",
       "      <td>Slovakia</td>\n",
       "      <td>4.3</td>\n",
       "    </tr>\n",
       "    <tr>\n",
       "      <th>1</th>\n",
       "      <td>Estonia</td>\n",
       "      <td>3.7</td>\n",
       "    </tr>\n",
       "    <tr>\n",
       "      <th>2</th>\n",
       "      <td>Czechia</td>\n",
       "      <td>3.5</td>\n",
       "    </tr>\n",
       "    <tr>\n",
       "      <th>3</th>\n",
       "      <td>Lithuania</td>\n",
       "      <td>3.0</td>\n",
       "    </tr>\n",
       "    <tr>\n",
       "      <th>4</th>\n",
       "      <td>Latvia</td>\n",
       "      <td>2.9</td>\n",
       "    </tr>\n",
       "  </tbody>\n",
       "</table>\n",
       "</div>"
      ],
      "text/plain": [
       "     Country  Poverty_Estimate\n",
       "0   Slovakia               4.3\n",
       "1    Estonia               3.7\n",
       "2    Czechia               3.5\n",
       "3  Lithuania               3.0\n",
       "4     Latvia               2.9"
      ]
     },
     "execution_count": 42,
     "metadata": {},
     "output_type": "execute_result"
    }
   ],
   "source": [
    "df1.head(5)"
   ]
  },
  {
   "cell_type": "code",
   "execution_count": 43,
   "id": "a00e2007",
   "metadata": {},
   "outputs": [],
   "source": [
    "merged_df = pd.merge(df,df1,how = 'outer')"
   ]
  },
  {
   "cell_type": "code",
   "execution_count": 44,
   "id": "fd0d26e3",
   "metadata": {},
   "outputs": [
    {
     "data": {
      "text/html": [
       "<div>\n",
       "<style scoped>\n",
       "    .dataframe tbody tr th:only-of-type {\n",
       "        vertical-align: middle;\n",
       "    }\n",
       "\n",
       "    .dataframe tbody tr th {\n",
       "        vertical-align: top;\n",
       "    }\n",
       "\n",
       "    .dataframe thead th {\n",
       "        text-align: right;\n",
       "    }\n",
       "</style>\n",
       "<table border=\"1\" class=\"dataframe\">\n",
       "  <thead>\n",
       "    <tr style=\"text-align: right;\">\n",
       "      <th></th>\n",
       "      <th>Country</th>\n",
       "      <th>Oil_Import</th>\n",
       "      <th>Poverty_Estimate</th>\n",
       "    </tr>\n",
       "  </thead>\n",
       "  <tbody>\n",
       "    <tr>\n",
       "      <th>0</th>\n",
       "      <td>Slovakia</td>\n",
       "      <td>78.4</td>\n",
       "      <td>4.3</td>\n",
       "    </tr>\n",
       "    <tr>\n",
       "      <th>1</th>\n",
       "      <td>Lithuania</td>\n",
       "      <td>68.8</td>\n",
       "      <td>3.0</td>\n",
       "    </tr>\n",
       "    <tr>\n",
       "      <th>2</th>\n",
       "      <td>Poland</td>\n",
       "      <td>67.5</td>\n",
       "      <td>1.3</td>\n",
       "    </tr>\n",
       "    <tr>\n",
       "      <th>3</th>\n",
       "      <td>Finland</td>\n",
       "      <td>66.8</td>\n",
       "      <td>1.3</td>\n",
       "    </tr>\n",
       "    <tr>\n",
       "      <th>4</th>\n",
       "      <td>Hungary</td>\n",
       "      <td>44.6</td>\n",
       "      <td>0.2</td>\n",
       "    </tr>\n",
       "  </tbody>\n",
       "</table>\n",
       "</div>"
      ],
      "text/plain": [
       "     Country  Oil_Import  Poverty_Estimate\n",
       "0   Slovakia        78.4               4.3\n",
       "1  Lithuania        68.8               3.0\n",
       "2     Poland        67.5               1.3\n",
       "3    Finland        66.8               1.3\n",
       "4    Hungary        44.6               0.2"
      ]
     },
     "execution_count": 44,
     "metadata": {},
     "output_type": "execute_result"
    }
   ],
   "source": [
    "merged_df.head()"
   ]
  },
  {
   "cell_type": "code",
   "execution_count": 45,
   "id": "1f9fc63f",
   "metadata": {},
   "outputs": [],
   "source": [
    "df = pd.read_excel(\"statistic_id1311688_support-for-cutting-economic-ties-with-russia-2022-by-selected-country.xlsx\", sheet_name=\"Data\")"
   ]
  },
  {
   "cell_type": "code",
   "execution_count": 46,
   "id": "b5139000",
   "metadata": {},
   "outputs": [],
   "source": [
    "merged_df = pd.merge(df,merged_df,how = 'outer')"
   ]
  },
  {
   "cell_type": "code",
   "execution_count": 29,
   "id": "476ea266",
   "metadata": {},
   "outputs": [],
   "source": [
    "df = pd.read_excel(\"statistic_id1312584_number-of-ukrainian-refugees-2022-by-country.xlsx\", sheet_name=\"Data\")"
   ]
  },
  {
   "cell_type": "code",
   "execution_count": 30,
   "id": "92795571",
   "metadata": {},
   "outputs": [],
   "source": [
    "merged_df = pd.merge(df,merged_df,how = 'outer')"
   ]
  },
  {
   "cell_type": "code",
   "execution_count": 31,
   "id": "0f2566b6",
   "metadata": {},
   "outputs": [],
   "source": [
    "df = pd.read_excel(\"statistic_id1312602_ukrainian-refugee-cost-2022-by-country.xlsx\", sheet_name=\"Data\")"
   ]
  },
  {
   "cell_type": "code",
   "execution_count": 32,
   "id": "d716c78e",
   "metadata": {},
   "outputs": [],
   "source": [
    "merged_df = pd.merge(df,merged_df,how = 'outer')"
   ]
  },
  {
   "cell_type": "code",
   "execution_count": 33,
   "id": "2512e803",
   "metadata": {},
   "outputs": [],
   "source": [
    "df = pd.read_excel(\"statistic_id1321519_impact-of-the-war-in-ukraine-on-gdp-growth-worldwide-2022-by-country.xlsx\", sheet_name=\"Data\")"
   ]
  },
  {
   "cell_type": "code",
   "execution_count": 34,
   "id": "86880943",
   "metadata": {},
   "outputs": [],
   "source": [
    "merged_df = pd.merge(df,merged_df,how = 'outer')"
   ]
  },
  {
   "cell_type": "code",
   "execution_count": 35,
   "id": "cbdfc5a2",
   "metadata": {},
   "outputs": [
    {
     "data": {
      "text/html": [
       "<div>\n",
       "<style scoped>\n",
       "    .dataframe tbody tr th:only-of-type {\n",
       "        vertical-align: middle;\n",
       "    }\n",
       "\n",
       "    .dataframe tbody tr th {\n",
       "        vertical-align: top;\n",
       "    }\n",
       "\n",
       "    .dataframe thead th {\n",
       "        text-align: right;\n",
       "    }\n",
       "</style>\n",
       "<table border=\"1\" class=\"dataframe\">\n",
       "  <thead>\n",
       "    <tr style=\"text-align: right;\">\n",
       "      <th></th>\n",
       "      <th>Country</th>\n",
       "      <th>GDP_Impact</th>\n",
       "      <th>Cost_of_Refugees</th>\n",
       "      <th>No_of_Refugees</th>\n",
       "      <th>EconomicTieCut</th>\n",
       "      <th>Oil_Import</th>\n",
       "      <th>Poverty_Estimate</th>\n",
       "    </tr>\n",
       "  </thead>\n",
       "  <tbody>\n",
       "    <tr>\n",
       "      <th>0</th>\n",
       "      <td>Slovakia</td>\n",
       "      <td>-2.72</td>\n",
       "      <td>0.29</td>\n",
       "      <td>100041.0</td>\n",
       "      <td>NaN</td>\n",
       "      <td>78.4</td>\n",
       "      <td>4.3</td>\n",
       "    </tr>\n",
       "    <tr>\n",
       "      <th>1</th>\n",
       "      <td>Germany</td>\n",
       "      <td>-2.19</td>\n",
       "      <td>2.99</td>\n",
       "      <td>1019789.0</td>\n",
       "      <td>NaN</td>\n",
       "      <td>29.7</td>\n",
       "      <td>0.4</td>\n",
       "    </tr>\n",
       "    <tr>\n",
       "      <th>2</th>\n",
       "      <td>Italy</td>\n",
       "      <td>-2.09</td>\n",
       "      <td>0.51</td>\n",
       "      <td>171546.0</td>\n",
       "      <td>NaN</td>\n",
       "      <td>12.5</td>\n",
       "      <td>1.3</td>\n",
       "    </tr>\n",
       "    <tr>\n",
       "      <th>3</th>\n",
       "      <td>Greece</td>\n",
       "      <td>-2.02</td>\n",
       "      <td>0.04</td>\n",
       "      <td>19997.0</td>\n",
       "      <td>NaN</td>\n",
       "      <td>26.3</td>\n",
       "      <td>2.5</td>\n",
       "    </tr>\n",
       "    <tr>\n",
       "      <th>4</th>\n",
       "      <td>France</td>\n",
       "      <td>-1.83</td>\n",
       "      <td>0.32</td>\n",
       "      <td>118994.0</td>\n",
       "      <td>NaN</td>\n",
       "      <td>13.3</td>\n",
       "      <td>0.7</td>\n",
       "    </tr>\n",
       "  </tbody>\n",
       "</table>\n",
       "</div>"
      ],
      "text/plain": [
       "    Country  GDP_Impact  Cost_of_Refugees  No_of_Refugees  EconomicTieCut  \\\n",
       "0  Slovakia       -2.72              0.29        100041.0             NaN   \n",
       "1   Germany       -2.19              2.99       1019789.0             NaN   \n",
       "2     Italy       -2.09              0.51        171546.0             NaN   \n",
       "3    Greece       -2.02              0.04         19997.0             NaN   \n",
       "4    France       -1.83              0.32        118994.0             NaN   \n",
       "\n",
       "   Oil_Import  Poverty_Estimate  \n",
       "0        78.4               4.3  \n",
       "1        29.7               0.4  \n",
       "2        12.5               1.3  \n",
       "3        26.3               2.5  \n",
       "4        13.3               0.7  "
      ]
     },
     "execution_count": 35,
     "metadata": {},
     "output_type": "execute_result"
    }
   ],
   "source": [
    "merged_df.head(5)"
   ]
  },
  {
   "cell_type": "code",
   "execution_count": 36,
   "id": "da373c71",
   "metadata": {},
   "outputs": [
    {
     "data": {
      "text/plain": [
       "(62, 7)"
      ]
     },
     "execution_count": 36,
     "metadata": {},
     "output_type": "execute_result"
    }
   ],
   "source": [
    "merged_df.shape"
   ]
  },
  {
   "cell_type": "code",
   "execution_count": 37,
   "id": "7b841f8e",
   "metadata": {},
   "outputs": [],
   "source": [
    "merged_df.to_csv(\"country.csv\", mode='w', index=False, header=True)"
   ]
  },
  {
   "cell_type": "code",
   "execution_count": 39,
   "id": "19fb2da7",
   "metadata": {},
   "outputs": [],
   "source": [
    "df = pd.read_excel(\"statistic_id1298031_dependence-on-russian-oil-in-the-eu-and-uk-2020-by-country.xlsx\", sheet_name=\"Data\")"
   ]
  },
  {
   "cell_type": "code",
   "execution_count": 40,
   "id": "5baf0456",
   "metadata": {},
   "outputs": [],
   "source": [
    "df1 = pd.read_excel(\"statistic_id1308770_impact-of-the-war-in-ukraine-on-poverty-in-the-eu-2022-by-country.xlsx\", sheet_name=\"Data\")"
   ]
  },
  {
   "cell_type": "code",
   "execution_count": 41,
   "id": "5df20755",
   "metadata": {},
   "outputs": [],
   "source": [
    "merged_df = pd.merge(df,df1,how = 'outer')"
   ]
  },
  {
   "cell_type": "code",
   "execution_count": 42,
   "id": "10f7a7ee",
   "metadata": {},
   "outputs": [],
   "source": [
    "merged_df.to_csv(\"poverty.csv\", mode='w', index=False, header=True)"
   ]
  },
  {
   "cell_type": "code",
   "execution_count": 43,
   "id": "10bb3dad",
   "metadata": {},
   "outputs": [],
   "source": [
    "df = pd.read_excel(\"statistic_id1311688_support-for-cutting-economic-ties-with-russia-2022-by-selected-country.xlsx\", sheet_name=\"Data\")"
   ]
  },
  {
   "cell_type": "code",
   "execution_count": 44,
   "id": "57426033",
   "metadata": {},
   "outputs": [],
   "source": [
    "df1 = pd.read_excel(\"statistic_id1321519_impact-of-the-war-in-ukraine-on-gdp-growth-worldwide-2022-by-country.xlsx\", sheet_name=\"Data\")"
   ]
  },
  {
   "cell_type": "code",
   "execution_count": 45,
   "id": "818670b6",
   "metadata": {},
   "outputs": [],
   "source": [
    "merged_df = pd.merge(df,df1,how = 'outer')"
   ]
  },
  {
   "cell_type": "code",
   "execution_count": 46,
   "id": "e6fdf4b2",
   "metadata": {},
   "outputs": [],
   "source": [
    "merged_df.to_csv(\"economy.csv\", mode='w', index=False, header=True)"
   ]
  },
  {
   "cell_type": "code",
   "execution_count": 47,
   "id": "58495a33",
   "metadata": {},
   "outputs": [],
   "source": [
    "df = pd.read_excel(\"statistic_id1312584_number-of-ukrainian-refugees-2022-by-country.xlsx\", sheet_name=\"Data\")"
   ]
  },
  {
   "cell_type": "code",
   "execution_count": 48,
   "id": "89e2ebf3",
   "metadata": {},
   "outputs": [],
   "source": [
    "df1 = pd.read_excel(\"statistic_id1312602_ukrainian-refugee-cost-2022-by-country.xlsx\", sheet_name=\"Data\")"
   ]
  },
  {
   "cell_type": "code",
   "execution_count": 49,
   "id": "a93000e7",
   "metadata": {},
   "outputs": [],
   "source": [
    "merged_df = pd.merge(df,df1,how = 'outer')"
   ]
  },
  {
   "cell_type": "code",
   "execution_count": 50,
   "id": "a556eddc",
   "metadata": {},
   "outputs": [],
   "source": [
    "merged_df.to_csv(\"refugees.csv\", mode='w', index=False, header=True)"
   ]
  },
  {
   "cell_type": "code",
   "execution_count": 51,
   "id": "c79f7039",
   "metadata": {},
   "outputs": [],
   "source": [
    "df = pd.read_csv(\"country.csv\")"
   ]
  },
  {
   "cell_type": "code",
   "execution_count": 52,
   "id": "9fe4710f",
   "metadata": {},
   "outputs": [
    {
     "data": {
      "text/html": [
       "<div>\n",
       "<style scoped>\n",
       "    .dataframe tbody tr th:only-of-type {\n",
       "        vertical-align: middle;\n",
       "    }\n",
       "\n",
       "    .dataframe tbody tr th {\n",
       "        vertical-align: top;\n",
       "    }\n",
       "\n",
       "    .dataframe thead th {\n",
       "        text-align: right;\n",
       "    }\n",
       "</style>\n",
       "<table border=\"1\" class=\"dataframe\">\n",
       "  <thead>\n",
       "    <tr style=\"text-align: right;\">\n",
       "      <th></th>\n",
       "      <th>Country</th>\n",
       "      <th>GDP_Impact</th>\n",
       "      <th>Cost_of_Refugees</th>\n",
       "      <th>No_of_Refugees</th>\n",
       "      <th>EconomicTieCut</th>\n",
       "      <th>Oil_Import</th>\n",
       "      <th>Poverty_Estimate</th>\n",
       "    </tr>\n",
       "  </thead>\n",
       "  <tbody>\n",
       "    <tr>\n",
       "      <th>0</th>\n",
       "      <td>Slovakia</td>\n",
       "      <td>-2.72</td>\n",
       "      <td>0.29</td>\n",
       "      <td>100041.0</td>\n",
       "      <td>NaN</td>\n",
       "      <td>78.4</td>\n",
       "      <td>4.3</td>\n",
       "    </tr>\n",
       "    <tr>\n",
       "      <th>1</th>\n",
       "      <td>Germany</td>\n",
       "      <td>-2.19</td>\n",
       "      <td>2.99</td>\n",
       "      <td>1019789.0</td>\n",
       "      <td>NaN</td>\n",
       "      <td>29.7</td>\n",
       "      <td>0.4</td>\n",
       "    </tr>\n",
       "    <tr>\n",
       "      <th>2</th>\n",
       "      <td>Italy</td>\n",
       "      <td>-2.09</td>\n",
       "      <td>0.51</td>\n",
       "      <td>171546.0</td>\n",
       "      <td>NaN</td>\n",
       "      <td>12.5</td>\n",
       "      <td>1.3</td>\n",
       "    </tr>\n",
       "    <tr>\n",
       "      <th>3</th>\n",
       "      <td>Greece</td>\n",
       "      <td>-2.02</td>\n",
       "      <td>0.04</td>\n",
       "      <td>19997.0</td>\n",
       "      <td>NaN</td>\n",
       "      <td>26.3</td>\n",
       "      <td>2.5</td>\n",
       "    </tr>\n",
       "    <tr>\n",
       "      <th>4</th>\n",
       "      <td>France</td>\n",
       "      <td>-1.83</td>\n",
       "      <td>0.32</td>\n",
       "      <td>118994.0</td>\n",
       "      <td>NaN</td>\n",
       "      <td>13.3</td>\n",
       "      <td>0.7</td>\n",
       "    </tr>\n",
       "  </tbody>\n",
       "</table>\n",
       "</div>"
      ],
      "text/plain": [
       "    Country  GDP_Impact  Cost_of_Refugees  No_of_Refugees  EconomicTieCut  \\\n",
       "0  Slovakia       -2.72              0.29        100041.0             NaN   \n",
       "1   Germany       -2.19              2.99       1019789.0             NaN   \n",
       "2     Italy       -2.09              0.51        171546.0             NaN   \n",
       "3    Greece       -2.02              0.04         19997.0             NaN   \n",
       "4    France       -1.83              0.32        118994.0             NaN   \n",
       "\n",
       "   Oil_Import  Poverty_Estimate  \n",
       "0        78.4               4.3  \n",
       "1        29.7               0.4  \n",
       "2        12.5               1.3  \n",
       "3        26.3               2.5  \n",
       "4        13.3               0.7  "
      ]
     },
     "execution_count": 52,
     "metadata": {},
     "output_type": "execute_result"
    }
   ],
   "source": [
    "df.head(5)"
   ]
  },
  {
   "cell_type": "code",
   "execution_count": 53,
   "id": "6ea7f530",
   "metadata": {},
   "outputs": [],
   "source": [
    "df1 = df[\"Country\"]"
   ]
  },
  {
   "cell_type": "code",
   "execution_count": 54,
   "id": "6db9b170",
   "metadata": {},
   "outputs": [
    {
     "data": {
      "text/plain": [
       "0    Slovakia\n",
       "1     Germany\n",
       "2       Italy\n",
       "3      Greece\n",
       "4      France\n",
       "Name: Country, dtype: object"
      ]
     },
     "execution_count": 54,
     "metadata": {},
     "output_type": "execute_result"
    }
   ],
   "source": [
    "df1.head()"
   ]
  },
  {
   "cell_type": "code",
   "execution_count": 55,
   "id": "03fe03f5",
   "metadata": {},
   "outputs": [],
   "source": [
    "df1.to_csv(\"countries.csv\", mode='w', index=False, header=True)"
   ]
  },
  {
   "cell_type": "code",
   "execution_count": 2,
   "id": "3eabb7fd",
   "metadata": {},
   "outputs": [],
   "source": [
    "df = pd.read_csv(\"country.csv\")"
   ]
  },
  {
   "cell_type": "code",
   "execution_count": 3,
   "id": "bf9e60ae",
   "metadata": {},
   "outputs": [
    {
     "data": {
      "text/plain": [
       "cid                  object\n",
       "Country              object\n",
       "GDP_Impact          float64\n",
       "Cost_of_Refugees    float64\n",
       "No_of_Refugees      float64\n",
       "EconomicTieCut      float64\n",
       "Oil_Import          float64\n",
       "Poverty_Estimate    float64\n",
       "dtype: object"
      ]
     },
     "execution_count": 3,
     "metadata": {},
     "output_type": "execute_result"
    }
   ],
   "source": [
    "df.dtypes"
   ]
  },
  {
   "cell_type": "code",
   "execution_count": 8,
   "id": "6ccf658e",
   "metadata": {},
   "outputs": [],
   "source": [
    "df['cid'] = df['cid'].astype(str)\n",
    "df['Country'] = df['Country'].astype(str)"
   ]
  },
  {
   "cell_type": "code",
   "execution_count": 6,
   "id": "0c441654",
   "metadata": {},
   "outputs": [],
   "source": [
    "df.to_csv(\"country.csv\", mode='w', index=False, header=True)"
   ]
  },
  {
   "cell_type": "code",
   "execution_count": 9,
   "id": "2ddafe78",
   "metadata": {},
   "outputs": [
    {
     "data": {
      "text/plain": [
       "cid                  object\n",
       "Country              object\n",
       "GDP_Impact          float64\n",
       "Cost_of_Refugees    float64\n",
       "No_of_Refugees      float64\n",
       "EconomicTieCut      float64\n",
       "Oil_Import          float64\n",
       "Poverty_Estimate    float64\n",
       "dtype: object"
      ]
     },
     "execution_count": 9,
     "metadata": {},
     "output_type": "execute_result"
    }
   ],
   "source": [
    "df.dtypes"
   ]
  },
  {
   "cell_type": "code",
   "execution_count": 7,
   "id": "1d93a54d",
   "metadata": {},
   "outputs": [],
   "source": [
    "df = pd.read_csv(\"country.csv\")"
   ]
  },
  {
   "cell_type": "code",
   "execution_count": 8,
   "id": "609f0110",
   "metadata": {},
   "outputs": [],
   "source": [
    "df = df.fillna(0)"
   ]
  },
  {
   "cell_type": "code",
   "execution_count": 9,
   "id": "79bb8c8d",
   "metadata": {},
   "outputs": [
    {
     "data": {
      "text/html": [
       "<div>\n",
       "<style scoped>\n",
       "    .dataframe tbody tr th:only-of-type {\n",
       "        vertical-align: middle;\n",
       "    }\n",
       "\n",
       "    .dataframe tbody tr th {\n",
       "        vertical-align: top;\n",
       "    }\n",
       "\n",
       "    .dataframe thead th {\n",
       "        text-align: right;\n",
       "    }\n",
       "</style>\n",
       "<table border=\"1\" class=\"dataframe\">\n",
       "  <thead>\n",
       "    <tr style=\"text-align: right;\">\n",
       "      <th></th>\n",
       "      <th>cid</th>\n",
       "      <th>Country</th>\n",
       "      <th>GDP_Impact</th>\n",
       "      <th>Cost_of_Refugees</th>\n",
       "      <th>No_of_Refugees</th>\n",
       "      <th>EconomicTieCut</th>\n",
       "      <th>Oil_Import</th>\n",
       "      <th>Poverty_Estimate</th>\n",
       "    </tr>\n",
       "  </thead>\n",
       "  <tbody>\n",
       "    <tr>\n",
       "      <th>0</th>\n",
       "      <td>C1</td>\n",
       "      <td>Slovakia</td>\n",
       "      <td>-2.72</td>\n",
       "      <td>0.29</td>\n",
       "      <td>100041.0</td>\n",
       "      <td>0.0</td>\n",
       "      <td>78.4</td>\n",
       "      <td>4.3</td>\n",
       "    </tr>\n",
       "    <tr>\n",
       "      <th>1</th>\n",
       "      <td>C2</td>\n",
       "      <td>Germany</td>\n",
       "      <td>-2.19</td>\n",
       "      <td>2.99</td>\n",
       "      <td>1019789.0</td>\n",
       "      <td>0.0</td>\n",
       "      <td>29.7</td>\n",
       "      <td>0.4</td>\n",
       "    </tr>\n",
       "    <tr>\n",
       "      <th>2</th>\n",
       "      <td>C3</td>\n",
       "      <td>Italy</td>\n",
       "      <td>-2.09</td>\n",
       "      <td>0.51</td>\n",
       "      <td>171546.0</td>\n",
       "      <td>0.0</td>\n",
       "      <td>12.5</td>\n",
       "      <td>1.3</td>\n",
       "    </tr>\n",
       "    <tr>\n",
       "      <th>3</th>\n",
       "      <td>C4</td>\n",
       "      <td>Greece</td>\n",
       "      <td>-2.02</td>\n",
       "      <td>0.04</td>\n",
       "      <td>19997.0</td>\n",
       "      <td>0.0</td>\n",
       "      <td>26.3</td>\n",
       "      <td>2.5</td>\n",
       "    </tr>\n",
       "    <tr>\n",
       "      <th>4</th>\n",
       "      <td>C5</td>\n",
       "      <td>France</td>\n",
       "      <td>-1.83</td>\n",
       "      <td>0.32</td>\n",
       "      <td>118994.0</td>\n",
       "      <td>0.0</td>\n",
       "      <td>13.3</td>\n",
       "      <td>0.7</td>\n",
       "    </tr>\n",
       "  </tbody>\n",
       "</table>\n",
       "</div>"
      ],
      "text/plain": [
       "  cid   Country  GDP_Impact  Cost_of_Refugees  No_of_Refugees  EconomicTieCut  \\\n",
       "0  C1  Slovakia       -2.72              0.29        100041.0             0.0   \n",
       "1  C2   Germany       -2.19              2.99       1019789.0             0.0   \n",
       "2  C3     Italy       -2.09              0.51        171546.0             0.0   \n",
       "3  C4    Greece       -2.02              0.04         19997.0             0.0   \n",
       "4  C5    France       -1.83              0.32        118994.0             0.0   \n",
       "\n",
       "   Oil_Import  Poverty_Estimate  \n",
       "0        78.4               4.3  \n",
       "1        29.7               0.4  \n",
       "2        12.5               1.3  \n",
       "3        26.3               2.5  \n",
       "4        13.3               0.7  "
      ]
     },
     "execution_count": 9,
     "metadata": {},
     "output_type": "execute_result"
    }
   ],
   "source": [
    "df.head(5)"
   ]
  },
  {
   "cell_type": "code",
   "execution_count": 10,
   "id": "4a48a93a",
   "metadata": {},
   "outputs": [],
   "source": [
    "df = df.drop(['cid'], axis = 1)"
   ]
  },
  {
   "cell_type": "code",
   "execution_count": 11,
   "id": "e44b59b3",
   "metadata": {},
   "outputs": [
    {
     "data": {
      "text/html": [
       "<div>\n",
       "<style scoped>\n",
       "    .dataframe tbody tr th:only-of-type {\n",
       "        vertical-align: middle;\n",
       "    }\n",
       "\n",
       "    .dataframe tbody tr th {\n",
       "        vertical-align: top;\n",
       "    }\n",
       "\n",
       "    .dataframe thead th {\n",
       "        text-align: right;\n",
       "    }\n",
       "</style>\n",
       "<table border=\"1\" class=\"dataframe\">\n",
       "  <thead>\n",
       "    <tr style=\"text-align: right;\">\n",
       "      <th></th>\n",
       "      <th>Country</th>\n",
       "      <th>GDP_Impact</th>\n",
       "      <th>Cost_of_Refugees</th>\n",
       "      <th>No_of_Refugees</th>\n",
       "      <th>EconomicTieCut</th>\n",
       "      <th>Oil_Import</th>\n",
       "      <th>Poverty_Estimate</th>\n",
       "    </tr>\n",
       "  </thead>\n",
       "  <tbody>\n",
       "    <tr>\n",
       "      <th>0</th>\n",
       "      <td>Slovakia</td>\n",
       "      <td>-2.72</td>\n",
       "      <td>0.29</td>\n",
       "      <td>100041.0</td>\n",
       "      <td>0.0</td>\n",
       "      <td>78.4</td>\n",
       "      <td>4.3</td>\n",
       "    </tr>\n",
       "    <tr>\n",
       "      <th>1</th>\n",
       "      <td>Germany</td>\n",
       "      <td>-2.19</td>\n",
       "      <td>2.99</td>\n",
       "      <td>1019789.0</td>\n",
       "      <td>0.0</td>\n",
       "      <td>29.7</td>\n",
       "      <td>0.4</td>\n",
       "    </tr>\n",
       "    <tr>\n",
       "      <th>2</th>\n",
       "      <td>Italy</td>\n",
       "      <td>-2.09</td>\n",
       "      <td>0.51</td>\n",
       "      <td>171546.0</td>\n",
       "      <td>0.0</td>\n",
       "      <td>12.5</td>\n",
       "      <td>1.3</td>\n",
       "    </tr>\n",
       "    <tr>\n",
       "      <th>3</th>\n",
       "      <td>Greece</td>\n",
       "      <td>-2.02</td>\n",
       "      <td>0.04</td>\n",
       "      <td>19997.0</td>\n",
       "      <td>0.0</td>\n",
       "      <td>26.3</td>\n",
       "      <td>2.5</td>\n",
       "    </tr>\n",
       "    <tr>\n",
       "      <th>4</th>\n",
       "      <td>France</td>\n",
       "      <td>-1.83</td>\n",
       "      <td>0.32</td>\n",
       "      <td>118994.0</td>\n",
       "      <td>0.0</td>\n",
       "      <td>13.3</td>\n",
       "      <td>0.7</td>\n",
       "    </tr>\n",
       "  </tbody>\n",
       "</table>\n",
       "</div>"
      ],
      "text/plain": [
       "    Country  GDP_Impact  Cost_of_Refugees  No_of_Refugees  EconomicTieCut  \\\n",
       "0  Slovakia       -2.72              0.29        100041.0             0.0   \n",
       "1   Germany       -2.19              2.99       1019789.0             0.0   \n",
       "2     Italy       -2.09              0.51        171546.0             0.0   \n",
       "3    Greece       -2.02              0.04         19997.0             0.0   \n",
       "4    France       -1.83              0.32        118994.0             0.0   \n",
       "\n",
       "   Oil_Import  Poverty_Estimate  \n",
       "0        78.4               4.3  \n",
       "1        29.7               0.4  \n",
       "2        12.5               1.3  \n",
       "3        26.3               2.5  \n",
       "4        13.3               0.7  "
      ]
     },
     "execution_count": 11,
     "metadata": {},
     "output_type": "execute_result"
    }
   ],
   "source": [
    "df.head(5)"
   ]
  },
  {
   "cell_type": "code",
   "execution_count": 12,
   "id": "08e68c64",
   "metadata": {},
   "outputs": [],
   "source": [
    "df.to_csv(\"country.csv\", mode='w', index=False, header=True)"
   ]
  },
  {
   "cell_type": "code",
   "execution_count": null,
   "id": "0d18e65f",
   "metadata": {},
   "outputs": [],
   "source": []
  }
 ],
 "metadata": {
  "kernelspec": {
   "display_name": "Python 3 (ipykernel)",
   "language": "python",
   "name": "python3"
  },
  "language_info": {
   "codemirror_mode": {
    "name": "ipython",
    "version": 3
   },
   "file_extension": ".py",
   "mimetype": "text/x-python",
   "name": "python",
   "nbconvert_exporter": "python",
   "pygments_lexer": "ipython3",
   "version": "3.9.13"
  }
 },
 "nbformat": 4,
 "nbformat_minor": 5
}
