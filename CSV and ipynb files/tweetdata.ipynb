{
 "cells": [
  {
   "cell_type": "code",
   "execution_count": 1,
   "id": "f6597f6b",
   "metadata": {},
   "outputs": [],
   "source": [
    "import pandas as pd"
   ]
  },
  {
   "cell_type": "code",
   "execution_count": 3,
   "id": "97707ff9",
   "metadata": {},
   "outputs": [],
   "source": [
    "df = pd.read_csv(\"tweetdata.csv\")"
   ]
  },
  {
   "cell_type": "code",
   "execution_count": 4,
   "id": "240ae61a",
   "metadata": {},
   "outputs": [
    {
     "data": {
      "text/html": [
       "<div>\n",
       "<style scoped>\n",
       "    .dataframe tbody tr th:only-of-type {\n",
       "        vertical-align: middle;\n",
       "    }\n",
       "\n",
       "    .dataframe tbody tr th {\n",
       "        vertical-align: top;\n",
       "    }\n",
       "\n",
       "    .dataframe thead th {\n",
       "        text-align: right;\n",
       "    }\n",
       "</style>\n",
       "<table border=\"1\" class=\"dataframe\">\n",
       "  <thead>\n",
       "    <tr style=\"text-align: right;\">\n",
       "      <th></th>\n",
       "      <th>tid</th>\n",
       "      <th>tweet</th>\n",
       "      <th>keyword</th>\n",
       "      <th>polarity</th>\n",
       "      <th>subjectivity</th>\n",
       "      <th>sentiment</th>\n",
       "      <th>neg</th>\n",
       "      <th>neu</th>\n",
       "      <th>pos</th>\n",
       "      <th>compound</th>\n",
       "    </tr>\n",
       "  </thead>\n",
       "  <tbody>\n",
       "    <tr>\n",
       "      <th>0</th>\n",
       "      <td>T1</td>\n",
       "      <td>RT CityLab Russian attacks damaged hundreds bu...</td>\n",
       "      <td>ukraine war</td>\n",
       "      <td>0.000000</td>\n",
       "      <td>0.125000</td>\n",
       "      <td>negative</td>\n",
       "      <td>0.345</td>\n",
       "      <td>0.655</td>\n",
       "      <td>0.000</td>\n",
       "      <td>-0.7003</td>\n",
       "    </tr>\n",
       "    <tr>\n",
       "      <th>1</th>\n",
       "      <td>T2</td>\n",
       "      <td>US sees war crimes Russia Ukraine Washington A...</td>\n",
       "      <td>ukraine war</td>\n",
       "      <td>0.500000</td>\n",
       "      <td>0.500000</td>\n",
       "      <td>negative</td>\n",
       "      <td>0.420</td>\n",
       "      <td>0.532</td>\n",
       "      <td>0.048</td>\n",
       "      <td>-0.9432</td>\n",
       "    </tr>\n",
       "    <tr>\n",
       "      <th>2</th>\n",
       "      <td>T3</td>\n",
       "      <td>RT nytimes Videos surfaced social media last w...</td>\n",
       "      <td>ukraine war</td>\n",
       "      <td>0.016667</td>\n",
       "      <td>0.066667</td>\n",
       "      <td>negative</td>\n",
       "      <td>0.195</td>\n",
       "      <td>0.700</td>\n",
       "      <td>0.105</td>\n",
       "      <td>-0.4215</td>\n",
       "    </tr>\n",
       "    <tr>\n",
       "      <th>3</th>\n",
       "      <td>T4</td>\n",
       "      <td>RT KimDotcom No one support Ukraine Jens Stolt...</td>\n",
       "      <td>ukraine war</td>\n",
       "      <td>0.050000</td>\n",
       "      <td>0.500000</td>\n",
       "      <td>positive</td>\n",
       "      <td>0.111</td>\n",
       "      <td>0.754</td>\n",
       "      <td>0.136</td>\n",
       "      <td>0.1280</td>\n",
       "    </tr>\n",
       "    <tr>\n",
       "      <th>4</th>\n",
       "      <td>T5</td>\n",
       "      <td>JustinTrudeau After Ukraine lied origins missi...</td>\n",
       "      <td>ukraine war</td>\n",
       "      <td>0.000000</td>\n",
       "      <td>0.066667</td>\n",
       "      <td>negative</td>\n",
       "      <td>0.244</td>\n",
       "      <td>0.564</td>\n",
       "      <td>0.192</td>\n",
       "      <td>-0.3400</td>\n",
       "    </tr>\n",
       "  </tbody>\n",
       "</table>\n",
       "</div>"
      ],
      "text/plain": [
       "  tid                                              tweet      keyword  \\\n",
       "0  T1  RT CityLab Russian attacks damaged hundreds bu...  ukraine war   \n",
       "1  T2  US sees war crimes Russia Ukraine Washington A...  ukraine war   \n",
       "2  T3  RT nytimes Videos surfaced social media last w...  ukraine war   \n",
       "3  T4  RT KimDotcom No one support Ukraine Jens Stolt...  ukraine war   \n",
       "4  T5  JustinTrudeau After Ukraine lied origins missi...  ukraine war   \n",
       "\n",
       "   polarity  subjectivity sentiment    neg    neu    pos  compound  \n",
       "0  0.000000      0.125000  negative  0.345  0.655  0.000   -0.7003  \n",
       "1  0.500000      0.500000  negative  0.420  0.532  0.048   -0.9432  \n",
       "2  0.016667      0.066667  negative  0.195  0.700  0.105   -0.4215  \n",
       "3  0.050000      0.500000  positive  0.111  0.754  0.136    0.1280  \n",
       "4  0.000000      0.066667  negative  0.244  0.564  0.192   -0.3400  "
      ]
     },
     "execution_count": 4,
     "metadata": {},
     "output_type": "execute_result"
    }
   ],
   "source": [
    "df.head(5)"
   ]
  },
  {
   "cell_type": "code",
   "execution_count": 5,
   "id": "b6f4b6d6",
   "metadata": {},
   "outputs": [
    {
     "data": {
      "text/plain": [
       "302"
      ]
     },
     "execution_count": 5,
     "metadata": {},
     "output_type": "execute_result"
    }
   ],
   "source": [
    "max(df.tweet.apply(len))"
   ]
  },
  {
   "cell_type": "code",
   "execution_count": null,
   "id": "01723da3",
   "metadata": {},
   "outputs": [],
   "source": []
  }
 ],
 "metadata": {
  "kernelspec": {
   "display_name": "Python 3 (ipykernel)",
   "language": "python",
   "name": "python3"
  },
  "language_info": {
   "codemirror_mode": {
    "name": "ipython",
    "version": 3
   },
   "file_extension": ".py",
   "mimetype": "text/x-python",
   "name": "python",
   "nbconvert_exporter": "python",
   "pygments_lexer": "ipython3",
   "version": "3.9.13"
  }
 },
 "nbformat": 4,
 "nbformat_minor": 5
}
